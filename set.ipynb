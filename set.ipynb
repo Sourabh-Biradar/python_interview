{
 "cells": [
  {
   "cell_type": "code",
   "execution_count": 1,
   "id": "c1e9b28f-361d-4b70-8d95-ac50d8ca08ef",
   "metadata": {},
   "outputs": [],
   "source": [
    "# python interview\n",
    "\n",
    "# set methods"
   ]
  },
  {
   "cell_type": "markdown",
   "id": "b99647b1-8690-4b16-8325-b8bfeb3f785d",
   "metadata": {},
   "source": [
    "add : one element at the end\n",
    "\n",
    "update : multiple elements\n",
    "\n",
    "remove : error if not found\n",
    "\n",
    "discard : No error if not found\n",
    "\n",
    "pop : random element delete\n",
    "\n",
    "clear \n",
    "\n",
    "union : combines 2 sets\n",
    "\n",
    "intersection : only common elements\n",
    "\n",
    "differnece : elements in 'a' but not in 'b'\n",
    "\n",
    "issubset \n",
    "\n",
    "issuperset"
   ]
  },
  {
   "cell_type": "code",
   "execution_count": 2,
   "id": "168e8234-24c0-462a-af5d-3d3f2e4fba67",
   "metadata": {},
   "outputs": [],
   "source": [
    "a = {1,3,5,7}\n",
    "\n",
    "b = {5,7,9,11}"
   ]
  },
  {
   "cell_type": "code",
   "execution_count": 3,
   "id": "7882be5e-306e-4a58-85ae-5f6b6bbb06f6",
   "metadata": {},
   "outputs": [
    {
     "data": {
      "text/plain": [
       "(set, set)"
      ]
     },
     "execution_count": 3,
     "metadata": {},
     "output_type": "execute_result"
    }
   ],
   "source": [
    "type(a),type(b)"
   ]
  },
  {
   "cell_type": "code",
   "execution_count": 4,
   "id": "5155b81f-3a36-43fb-8859-f2d9ce83d3d6",
   "metadata": {},
   "outputs": [
    {
     "data": {
      "text/plain": [
       "{1}"
      ]
     },
     "execution_count": 4,
     "metadata": {},
     "output_type": "execute_result"
    }
   ],
   "source": [
    "c = {1,1,1,1}\n",
    "\n",
    "c"
   ]
  },
  {
   "cell_type": "code",
   "execution_count": 5,
   "id": "43a9f814-b9a0-402f-a285-5b244ec99763",
   "metadata": {},
   "outputs": [
    {
     "data": {
      "text/plain": [
       "{1, 3, 5, 7, 13}"
      ]
     },
     "execution_count": 5,
     "metadata": {},
     "output_type": "execute_result"
    }
   ],
   "source": [
    "a.add(13)\n",
    "\n",
    "a"
   ]
  },
  {
   "cell_type": "code",
   "execution_count": 6,
   "id": "9fc9d91f-bcb6-4ff5-abfd-61a92550a8a1",
   "metadata": {},
   "outputs": [
    {
     "data": {
      "text/plain": [
       "{5, 7, 9, 11, 12, 14, 16}"
      ]
     },
     "execution_count": 6,
     "metadata": {},
     "output_type": "execute_result"
    }
   ],
   "source": [
    "b.update([12,14,16])\n",
    "\n",
    "b"
   ]
  },
  {
   "cell_type": "code",
   "execution_count": 7,
   "id": "ea48c13c-234c-4d42-a0f9-ed88618c386a",
   "metadata": {},
   "outputs": [
    {
     "data": {
      "text/plain": [
       "{7, 9, 11, 12, 14, 16}"
      ]
     },
     "execution_count": 7,
     "metadata": {},
     "output_type": "execute_result"
    }
   ],
   "source": [
    "b.pop()\n",
    "\n",
    "b"
   ]
  },
  {
   "cell_type": "code",
   "execution_count": 8,
   "id": "182b4df8-c0f0-478e-9195-96199de72cf6",
   "metadata": {},
   "outputs": [
    {
     "data": {
      "text/plain": [
       "{1, 3, 5, 7}"
      ]
     },
     "execution_count": 8,
     "metadata": {},
     "output_type": "execute_result"
    }
   ],
   "source": [
    "a.remove(13)\n",
    "\n",
    "a"
   ]
  },
  {
   "cell_type": "code",
   "execution_count": 9,
   "id": "3ce3f453-0cf7-443c-91f0-595c17271e5e",
   "metadata": {},
   "outputs": [
    {
     "data": {
      "text/plain": [
       "{7, 9, 11, 12, 16}"
      ]
     },
     "execution_count": 9,
     "metadata": {},
     "output_type": "execute_result"
    }
   ],
   "source": [
    "b.discard(14)\n",
    "\n",
    "b"
   ]
  },
  {
   "cell_type": "code",
   "execution_count": 10,
   "id": "aff13cf2-a778-4277-87e6-7aabad2b9757",
   "metadata": {},
   "outputs": [
    {
     "data": {
      "text/plain": [
       "set()"
      ]
     },
     "execution_count": 10,
     "metadata": {},
     "output_type": "execute_result"
    }
   ],
   "source": [
    "c.clear()\n",
    "\n",
    "c"
   ]
  },
  {
   "cell_type": "code",
   "execution_count": 11,
   "id": "142fcc95-5164-4cc1-ae2a-8080d178559b",
   "metadata": {},
   "outputs": [
    {
     "data": {
      "text/plain": [
       "{1, 3, 5, 7, 9, 11, 12, 16}"
      ]
     },
     "execution_count": 11,
     "metadata": {},
     "output_type": "execute_result"
    }
   ],
   "source": [
    "a.union(b)"
   ]
  },
  {
   "cell_type": "code",
   "execution_count": 12,
   "id": "87508c16-ae38-4b1d-8a13-65c8a810ec41",
   "metadata": {},
   "outputs": [
    {
     "data": {
      "text/plain": [
       "{7}"
      ]
     },
     "execution_count": 12,
     "metadata": {},
     "output_type": "execute_result"
    }
   ],
   "source": [
    "a.intersection(b)"
   ]
  },
  {
   "cell_type": "code",
   "execution_count": 13,
   "id": "b7d8103f-d725-4716-ab68-ac20ac7453e6",
   "metadata": {},
   "outputs": [
    {
     "data": {
      "text/plain": [
       "{1, 3, 5}"
      ]
     },
     "execution_count": 13,
     "metadata": {},
     "output_type": "execute_result"
    }
   ],
   "source": [
    "a.difference(b)"
   ]
  },
  {
   "cell_type": "code",
   "execution_count": 14,
   "id": "80657595-8163-4928-a669-802277e53c54",
   "metadata": {},
   "outputs": [],
   "source": [
    "x = {1,2,3}\n",
    "\n",
    "y = {2,1}"
   ]
  },
  {
   "cell_type": "code",
   "execution_count": 15,
   "id": "1cc39ed5-2a36-4691-97c1-4e1b5f180476",
   "metadata": {},
   "outputs": [
    {
     "data": {
      "text/plain": [
       "True"
      ]
     },
     "execution_count": 15,
     "metadata": {},
     "output_type": "execute_result"
    }
   ],
   "source": [
    "x.issuperset(y)"
   ]
  },
  {
   "cell_type": "code",
   "execution_count": 16,
   "id": "a92d1139-2e6a-488f-9cbb-315f563b072d",
   "metadata": {},
   "outputs": [
    {
     "data": {
      "text/plain": [
       "True"
      ]
     },
     "execution_count": 16,
     "metadata": {},
     "output_type": "execute_result"
    }
   ],
   "source": [
    "y.issubset(x)"
   ]
  }
 ],
 "metadata": {
  "kernelspec": {
   "display_name": "Python 3 (ipykernel)",
   "language": "python",
   "name": "python3"
  },
  "language_info": {
   "codemirror_mode": {
    "name": "ipython",
    "version": 3
   },
   "file_extension": ".py",
   "mimetype": "text/x-python",
   "name": "python",
   "nbconvert_exporter": "python",
   "pygments_lexer": "ipython3",
   "version": "3.11.13"
  }
 },
 "nbformat": 4,
 "nbformat_minor": 5
}
