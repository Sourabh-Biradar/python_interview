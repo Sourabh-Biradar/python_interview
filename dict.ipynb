{
 "cells": [
  {
   "cell_type": "code",
   "execution_count": 1,
   "id": "5e8ea65b-7c31-4a9e-93f3-69fe6028f4e7",
   "metadata": {},
   "outputs": [],
   "source": [
    "# python interview\n",
    "\n",
    "# dict methods"
   ]
  },
  {
   "cell_type": "markdown",
   "id": "6616f801-37d2-44e2-a5e9-038c3ca90a04",
   "metadata": {},
   "source": [
    "get : No KeyError instead returns 'None'\n",
    "\n",
    "keys \n",
    "\n",
    "values \n",
    "\n",
    "items : key-value tuple\n",
    "\n",
    "update : add or merge \n",
    "\n",
    "pop : remove by key\n",
    "\n",
    "popitem : remove last pair LIFO\n",
    "\n",
    "setdefault\n",
    "\n",
    "fromkeys : iterable , default value"
   ]
  },
  {
   "cell_type": "code",
   "execution_count": 2,
   "id": "9b0b62af-6ee7-4828-8726-594afb098ef0",
   "metadata": {},
   "outputs": [
    {
     "data": {
      "text/plain": [
       "{'a': 1, 'b': 2, 'c': 3}"
      ]
     },
     "execution_count": 2,
     "metadata": {},
     "output_type": "execute_result"
    }
   ],
   "source": [
    "d = {'a':1,'b':2}\n",
    "\n",
    "d['c']= 3 \n",
    "\n",
    "d"
   ]
  },
  {
   "cell_type": "code",
   "execution_count": 3,
   "id": "c5f78918-d8a6-4553-92a6-f4d5aa1a4022",
   "metadata": {},
   "outputs": [
    {
     "ename": "KeyError",
     "evalue": "'d'",
     "output_type": "error",
     "traceback": [
      "\u001b[0;31m---------------------------------------------------------------------------\u001b[0m",
      "\u001b[0;31mKeyError\u001b[0m                                  Traceback (most recent call last)",
      "Cell \u001b[0;32mIn[3], line 1\u001b[0m\n\u001b[0;32m----> 1\u001b[0m d[\u001b[38;5;124m'\u001b[39m\u001b[38;5;124md\u001b[39m\u001b[38;5;124m'\u001b[39m]\n",
      "\u001b[0;31mKeyError\u001b[0m: 'd'"
     ]
    }
   ],
   "source": [
    "d['d']"
   ]
  },
  {
   "cell_type": "code",
   "execution_count": 4,
   "id": "0ad16689-50a9-43fd-a3a0-b7b73ba75f7e",
   "metadata": {},
   "outputs": [
    {
     "name": "stdout",
     "output_type": "stream",
     "text": [
      "None\n"
     ]
    }
   ],
   "source": [
    "print(d.get('d'))"
   ]
  },
  {
   "cell_type": "code",
   "execution_count": 5,
   "id": "ea8af9ec-4fb7-4c20-87e0-e70d0c19a63c",
   "metadata": {},
   "outputs": [
    {
     "data": {
      "text/plain": [
       "{'a': 1, 'b': 2, 'c': 3, 'e': 5}"
      ]
     },
     "execution_count": 5,
     "metadata": {},
     "output_type": "execute_result"
    }
   ],
   "source": [
    "d.update({'e':5})\n",
    "\n",
    "d"
   ]
  },
  {
   "cell_type": "code",
   "execution_count": 6,
   "id": "0ebc20e6-873a-4f25-a7d9-d7d8b0196088",
   "metadata": {},
   "outputs": [
    {
     "data": {
      "text/plain": [
       "{'a': 1, 'b': 2, 'c': 3, 'e': 5, 'x': 24, 'y': 25, 'z': 26}"
      ]
     },
     "execution_count": 6,
     "metadata": {},
     "output_type": "execute_result"
    }
   ],
   "source": [
    "x = {'x':24,'y':25,'z':26}\n",
    "\n",
    "d.update(x)\n",
    "\n",
    "d"
   ]
  },
  {
   "cell_type": "code",
   "execution_count": 7,
   "id": "5bf87660-a49e-4e09-941f-213a6b6d5f8f",
   "metadata": {},
   "outputs": [
    {
     "data": {
      "text/plain": [
       "24"
      ]
     },
     "execution_count": 7,
     "metadata": {},
     "output_type": "execute_result"
    }
   ],
   "source": [
    "d.pop('x')"
   ]
  },
  {
   "cell_type": "code",
   "execution_count": 8,
   "id": "3933c50c-5e1b-45c3-9a65-e1db5abea3d5",
   "metadata": {},
   "outputs": [
    {
     "data": {
      "text/plain": [
       "('z', 26)"
      ]
     },
     "execution_count": 8,
     "metadata": {},
     "output_type": "execute_result"
    }
   ],
   "source": [
    "d.popitem()"
   ]
  },
  {
   "cell_type": "code",
   "execution_count": 9,
   "id": "70fcf0f6-6670-4795-9a63-01dd4a9ad2da",
   "metadata": {},
   "outputs": [
    {
     "data": {
      "text/plain": [
       "{'a': 1, 'b': 2, 'c': 3, 'e': 5, 'y': 25, 'd': 0}"
      ]
     },
     "execution_count": 9,
     "metadata": {},
     "output_type": "execute_result"
    }
   ],
   "source": [
    "d.setdefault('d',0)\n",
    "\n",
    "d"
   ]
  },
  {
   "cell_type": "code",
   "execution_count": 10,
   "id": "33a086ff-8904-4314-a1d8-b962fcd9bc90",
   "metadata": {},
   "outputs": [
    {
     "data": {
      "text/plain": [
       "{'l': 100, 'm': 100, 'n': 100}"
      ]
     },
     "execution_count": 10,
     "metadata": {},
     "output_type": "execute_result"
    }
   ],
   "source": [
    "d.fromkeys(['l','m','n'],100)"
   ]
  },
  {
   "cell_type": "code",
   "execution_count": 11,
   "id": "9b8f4ebf-3396-4c9e-80f6-e4128aa849ab",
   "metadata": {},
   "outputs": [
    {
     "data": {
      "text/plain": [
       "dict_keys(['a', 'b', 'c', 'e', 'y', 'd'])"
      ]
     },
     "execution_count": 11,
     "metadata": {},
     "output_type": "execute_result"
    }
   ],
   "source": [
    "d.keys()"
   ]
  },
  {
   "cell_type": "code",
   "execution_count": 12,
   "id": "a9142a5b-e661-4b95-9a76-798ba9b66e19",
   "metadata": {},
   "outputs": [
    {
     "data": {
      "text/plain": [
       "dict_values([1, 2, 3, 5, 25, 0])"
      ]
     },
     "execution_count": 12,
     "metadata": {},
     "output_type": "execute_result"
    }
   ],
   "source": [
    "d.values()"
   ]
  },
  {
   "cell_type": "code",
   "execution_count": 13,
   "id": "5796126a-6428-4818-a3b5-9e496c1c8c10",
   "metadata": {},
   "outputs": [
    {
     "data": {
      "text/plain": [
       "dict_items([('a', 1), ('b', 2), ('c', 3), ('e', 5), ('y', 25), ('d', 0)])"
      ]
     },
     "execution_count": 13,
     "metadata": {},
     "output_type": "execute_result"
    }
   ],
   "source": [
    "d.items()"
   ]
  }
 ],
 "metadata": {
  "kernelspec": {
   "display_name": "Python 3 (ipykernel)",
   "language": "python",
   "name": "python3"
  },
  "language_info": {
   "codemirror_mode": {
    "name": "ipython",
    "version": 3
   },
   "file_extension": ".py",
   "mimetype": "text/x-python",
   "name": "python",
   "nbconvert_exporter": "python",
   "pygments_lexer": "ipython3",
   "version": "3.11.13"
  }
 },
 "nbformat": 4,
 "nbformat_minor": 5
}
