{
 "cells": [
  {
   "cell_type": "code",
   "execution_count": 1,
   "id": "54e9c45b-48f8-49a4-9c54-8c2337cad1c0",
   "metadata": {},
   "outputs": [],
   "source": [
    "# python interview \n",
    "\n",
    "# string"
   ]
  },
  {
   "cell_type": "markdown",
   "id": "64234146-1cd3-4159-abbc-fbab84ed9100",
   "metadata": {},
   "source": [
    "swapcase\n",
    "\n",
    "capitalize : First letter caps\n",
    "\n",
    "title : First letter of every word caps\n",
    "\n",
    "strip : removes trailing spaces (or specified char)\n",
    "\n",
    "split : splits string to list using delimiter (default space)\n",
    "\n",
    "join : list to string using delimiter\n",
    "\n",
    "find : index of first occurance (char or word)\n",
    "\n",
    "replace\n",
    "\n",
    "startswith : check prefix (char or word)\n",
    "\n",
    "endswith : check sufix (char or word)"
   ]
  },
  {
   "cell_type": "code",
   "execution_count": 2,
   "id": "94abfd26-41c2-4d91-8eab-96abc9c3ea1b",
   "metadata": {},
   "outputs": [],
   "source": [
    "s = 'it fuN to Learn Python'"
   ]
  },
  {
   "cell_type": "code",
   "execution_count": 3,
   "id": "2f2e481f-35af-47ae-a3e1-8ec22987165b",
   "metadata": {},
   "outputs": [
    {
     "data": {
      "text/plain": [
       "'IT FUn TO lEARN pYTHON'"
      ]
     },
     "execution_count": 3,
     "metadata": {},
     "output_type": "execute_result"
    }
   ],
   "source": [
    "s.swapcase()"
   ]
  },
  {
   "cell_type": "code",
   "execution_count": 4,
   "id": "6bdb6efd-73c7-4cd3-a47e-a0fee9bb922b",
   "metadata": {},
   "outputs": [
    {
     "data": {
      "text/plain": [
       "'It fun to learn python'"
      ]
     },
     "execution_count": 4,
     "metadata": {},
     "output_type": "execute_result"
    }
   ],
   "source": [
    "s.capitalize()"
   ]
  },
  {
   "cell_type": "code",
   "execution_count": 5,
   "id": "a87a9c2d-0caa-48a9-9b20-23d085136409",
   "metadata": {},
   "outputs": [
    {
     "data": {
      "text/plain": [
       "'It Fun To Learn Python'"
      ]
     },
     "execution_count": 5,
     "metadata": {},
     "output_type": "execute_result"
    }
   ],
   "source": [
    "s.title()"
   ]
  },
  {
   "cell_type": "code",
   "execution_count": 6,
   "id": "a3c54662-312c-4ff2-9b8c-19e209fac678",
   "metadata": {},
   "outputs": [
    {
     "data": {
      "text/plain": [
       "'car'"
      ]
     },
     "execution_count": 6,
     "metadata": {},
     "output_type": "execute_result"
    }
   ],
   "source": [
    "\"   car   \".strip()"
   ]
  },
  {
   "cell_type": "code",
   "execution_count": 7,
   "id": "beefec69-5c7b-4a8a-bcdf-f09f86739b4f",
   "metadata": {},
   "outputs": [
    {
     "data": {
      "text/plain": [
       "'bus'"
      ]
     },
     "execution_count": 7,
     "metadata": {},
     "output_type": "execute_result"
    }
   ],
   "source": [
    "'###bus##'.strip('#')"
   ]
  },
  {
   "cell_type": "code",
   "execution_count": 8,
   "id": "31ae5e4c-7089-42e6-be59-9e5c8d8dc1ba",
   "metadata": {},
   "outputs": [
    {
     "data": {
      "text/plain": [
       "'its fuN to Learn Python'"
      ]
     },
     "execution_count": 8,
     "metadata": {},
     "output_type": "execute_result"
    }
   ],
   "source": [
    "s.replace('it','its')"
   ]
  },
  {
   "cell_type": "code",
   "execution_count": 9,
   "id": "fdbd0318-30de-4a72-ae98-25837a990089",
   "metadata": {},
   "outputs": [
    {
     "data": {
      "text/plain": [
       "['it', 'fuN', 'to', 'Learn', 'Python']"
      ]
     },
     "execution_count": 9,
     "metadata": {},
     "output_type": "execute_result"
    }
   ],
   "source": [
    "s.split()"
   ]
  },
  {
   "cell_type": "code",
   "execution_count": 10,
   "id": "742e6e6b-e076-469a-b59d-a39b44dfdaf9",
   "metadata": {},
   "outputs": [
    {
     "data": {
      "text/plain": [
       "'it fuN to Learn Python'"
      ]
     },
     "execution_count": 10,
     "metadata": {},
     "output_type": "execute_result"
    }
   ],
   "source": [
    "\" \".join(['it', 'fuN', 'to', 'Learn', 'Python'])"
   ]
  },
  {
   "cell_type": "code",
   "execution_count": 11,
   "id": "dcdea2b9-7c94-4331-83c8-722e199036cd",
   "metadata": {},
   "outputs": [
    {
     "data": {
      "text/plain": [
       "1"
      ]
     },
     "execution_count": 11,
     "metadata": {},
     "output_type": "execute_result"
    }
   ],
   "source": [
    "s.find('t')"
   ]
  },
  {
   "cell_type": "code",
   "execution_count": 12,
   "id": "1a1956d5-7b01-4818-966e-bd6f736648bd",
   "metadata": {},
   "outputs": [
    {
     "data": {
      "text/plain": [
       "7"
      ]
     },
     "execution_count": 12,
     "metadata": {},
     "output_type": "execute_result"
    }
   ],
   "source": [
    "s.find('to')"
   ]
  },
  {
   "cell_type": "code",
   "execution_count": 13,
   "id": "0c8ad653-46aa-402d-bcea-02faeb272ef2",
   "metadata": {},
   "outputs": [
    {
     "data": {
      "text/plain": [
       "True"
      ]
     },
     "execution_count": 13,
     "metadata": {},
     "output_type": "execute_result"
    }
   ],
   "source": [
    "s.startswith('i')"
   ]
  },
  {
   "cell_type": "code",
   "execution_count": 14,
   "id": "e953e89c-b25d-4a23-a71b-dbf225201e36",
   "metadata": {},
   "outputs": [
    {
     "data": {
      "text/plain": [
       "False"
      ]
     },
     "execution_count": 14,
     "metadata": {},
     "output_type": "execute_result"
    }
   ],
   "source": [
    "s.startswith('is')"
   ]
  },
  {
   "cell_type": "code",
   "execution_count": 15,
   "id": "a73f3d85-ce63-472b-9984-f36694fd0a30",
   "metadata": {},
   "outputs": [
    {
     "data": {
      "text/plain": [
       "True"
      ]
     },
     "execution_count": 15,
     "metadata": {},
     "output_type": "execute_result"
    }
   ],
   "source": [
    "s.endswith('n')"
   ]
  },
  {
   "cell_type": "code",
   "execution_count": 16,
   "id": "80423e7d-6a28-4a31-b497-3ceb11e03fbb",
   "metadata": {},
   "outputs": [
    {
     "data": {
      "text/plain": [
       "True"
      ]
     },
     "execution_count": 16,
     "metadata": {},
     "output_type": "execute_result"
    }
   ],
   "source": [
    "s.endswith('Python')"
   ]
  },
  {
   "cell_type": "code",
   "execution_count": 17,
   "id": "467deef0-cb56-4858-a560-221b2845be5d",
   "metadata": {},
   "outputs": [
    {
     "data": {
      "text/plain": [
       "False"
      ]
     },
     "execution_count": 17,
     "metadata": {},
     "output_type": "execute_result"
    }
   ],
   "source": [
    "s.endswith('Java')"
   ]
  }
 ],
 "metadata": {
  "kernelspec": {
   "display_name": "Python 3 (ipykernel)",
   "language": "python",
   "name": "python3"
  },
  "language_info": {
   "codemirror_mode": {
    "name": "ipython",
    "version": 3
   },
   "file_extension": ".py",
   "mimetype": "text/x-python",
   "name": "python",
   "nbconvert_exporter": "python",
   "pygments_lexer": "ipython3",
   "version": "3.11.13"
  }
 },
 "nbformat": 4,
 "nbformat_minor": 5
}
