{
 "cells": [
  {
   "cell_type": "code",
   "execution_count": 1,
   "id": "a544f01d-5c90-452b-84b5-3be17ade35f7",
   "metadata": {},
   "outputs": [],
   "source": [
    "# python interview"
   ]
  },
  {
   "cell_type": "code",
   "execution_count": 5,
   "id": "35a5691a-4670-42a3-98ee-069af11e381e",
   "metadata": {},
   "outputs": [
    {
     "name": "stdout",
     "output_type": "stream",
     "text": [
      "Help on built-in function len in module builtins:\n",
      "\n",
      "len(obj, /)\n",
      "    Return the number of items in a container.\n",
      "\n"
     ]
    }
   ],
   "source": [
    "help(len)"
   ]
  },
  {
   "cell_type": "code",
   "execution_count": 11,
   "id": "6ea58da7-9356-4c07-98c9-6bc1e1f65c08",
   "metadata": {},
   "outputs": [
    {
     "data": {
      "text/plain": [
       "[7, 6, -5, 4, 2]"
      ]
     },
     "execution_count": 11,
     "metadata": {},
     "output_type": "execute_result"
    }
   ],
   "source": [
    "# sorted\n",
    "arr = [4,2,6,7,-5]\n",
    "\n",
    "sorted(arr,key=abs,reverse=True)"
   ]
  },
  {
   "cell_type": "markdown",
   "id": "4a6362ee-63f3-487f-b8d4-f9cdcc4e181f",
   "metadata": {},
   "source": [
    "key : pass in-built function , lambda ... <br>\n",
    "abs : abs(-5) == 5 <br>\n",
    "reverse : bool"
   ]
  },
  {
   "cell_type": "code",
   "execution_count": 17,
   "id": "7cc17bad-88c3-4fc0-bd5c-cb79db27e2b9",
   "metadata": {},
   "outputs": [
    {
     "name": "stdout",
     "output_type": "stream",
     "text": [
      "is instance : True\n"
     ]
    }
   ],
   "source": [
    "# is instance\n",
    "print(\"is instance :\",isinstance(arr,list))"
   ]
  },
  {
   "cell_type": "code",
   "execution_count": 18,
   "id": "939c8198-89e9-4484-863e-d5e7315a2b0e",
   "metadata": {},
   "outputs": [
    {
     "name": "stdout",
     "output_type": "stream",
     "text": [
      "<zip object at 0x10e962480>\n"
     ]
    }
   ],
   "source": [
    "# zip\n",
    "\n",
    "a = [2,4,6,8]\n",
    "b = ['Two','Four','Six','Eight']\n",
    "\n",
    "print(zip(a,b))"
   ]
  },
  {
   "cell_type": "markdown",
   "id": "ce644eab-f67c-455f-a7c1-ae2057354d30",
   "metadata": {},
   "source": [
    "Zip returns 'tuple iterator' <br>\n",
    "convert it to 'list'  <br>\n",
    "or <br>\n",
    "use for loop with 2 vars"
   ]
  },
  {
   "cell_type": "code",
   "execution_count": 19,
   "id": "df749eb9-52f2-4550-8874-b9d127cdca03",
   "metadata": {},
   "outputs": [
    {
     "name": "stdout",
     "output_type": "stream",
     "text": [
      "[(2, 'Two'), (4, 'Four'), (6, 'Six'), (8, 'Eight')]\n"
     ]
    }
   ],
   "source": [
    "# using list\n",
    "\n",
    "print(list(zip(a,b)))"
   ]
  },
  {
   "cell_type": "code",
   "execution_count": 20,
   "id": "c382469b-56b6-46e7-ab64-eddef096f608",
   "metadata": {},
   "outputs": [
    {
     "name": "stdout",
     "output_type": "stream",
     "text": [
      "2 Two\n",
      "4 Four\n",
      "6 Six\n",
      "8 Eight\n"
     ]
    }
   ],
   "source": [
    "# using for loop\n",
    "\n",
    "for digit,word in zip(a,b):\n",
    "    print(digit,word)"
   ]
  }
 ],
 "metadata": {
  "kernelspec": {
   "display_name": "Python 3 (ipykernel)",
   "language": "python",
   "name": "python3"
  },
  "language_info": {
   "codemirror_mode": {
    "name": "ipython",
    "version": 3
   },
   "file_extension": ".py",
   "mimetype": "text/x-python",
   "name": "python",
   "nbconvert_exporter": "python",
   "pygments_lexer": "ipython3",
   "version": "3.11.13"
  }
 },
 "nbformat": 4,
 "nbformat_minor": 5
}
